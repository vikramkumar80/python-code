{
 "cells": [
  {
   "cell_type": "code",
   "execution_count": 2,
   "metadata": {},
   "outputs": [
    {
     "ename": "SyntaxError",
     "evalue": "invalid syntax (<ipython-input-2-4ec5c61e119d>, line 2)",
     "output_type": "error",
     "traceback": [
      "\u001b[1;36m  File \u001b[1;32m\"<ipython-input-2-4ec5c61e119d>\"\u001b[1;36m, line \u001b[1;32m2\u001b[0m\n\u001b[1;33m    if year % 4==0: or year % 100==0: and year % 400==0:\u001b[0m\n\u001b[1;37m                     ^\u001b[0m\n\u001b[1;31mSyntaxError\u001b[0m\u001b[1;31m:\u001b[0m invalid syntax\n"
     ]
    }
   ],
   "source": [
    "year=int(input(\"enter leap year\"))\n",
    "if year % 4==0: or year % 100==0: and year % 400==0:\n",
    "        print (\"leap year\")\n",
    "else:\n",
    "    print(\"not a leap year \")\n",
    "    \n",
    "\n"
   ]
  },
  {
   "cell_type": "code",
   "execution_count": 10,
   "metadata": {},
   "outputs": [
    {
     "name": "stdout",
     "output_type": "stream",
     "text": [
      "enter leap year29\n",
      "not a leap year\n"
     ]
    }
   ],
   "source": [
    "year=int(input(\"enter leap year\"))\n",
    "if year%4==0:\n",
    "    if year%100==0:\n",
    "        if year%400==0:\n",
    "            print(\"leap year\")\n",
    "        else:\n",
    "            print(\"not a leap year\")\n",
    "    else:\n",
    "        print(\"leap year\")\n",
    "else:\n",
    "    print(\"not a leap year\")\n",
    "        "
   ]
  },
  {
   "cell_type": "code",
   "execution_count": 11,
   "metadata": {},
   "outputs": [
    {
     "name": "stdout",
     "output_type": "stream",
     "text": [
      "4950\n"
     ]
    }
   ],
   "source": [
    "sum=0\n",
    "for i in range (0,100):\n",
    "    sum=sum+i\n",
    "print(sum)"
   ]
  },
  {
   "cell_type": "code",
   "execution_count": 5,
   "metadata": {},
   "outputs": [
    {
     "name": "stdout",
     "output_type": "stream",
     "text": [
      "4950\n"
     ]
    }
   ],
   "source": [
    "sum=0\n",
    "i=0\n",
    "while i<100:\n",
    "    sum=sum+i\n",
    "    i+=1\n",
    "print(sum)"
   ]
  },
  {
   "cell_type": "code",
   "execution_count": 2,
   "metadata": {},
   "outputs": [
    {
     "name": "stdout",
     "output_type": "stream",
     "text": [
      "1,1,2,3,5,8,13,21,34,55,89,144,233,377,610,987,"
     ]
    }
   ],
   "source": [
    "a=0\n",
    "b=1\n",
    "series=0\n",
    "while series<1000:\n",
    "    series =a+b\n",
    "    a=b\n",
    "    b=series\n",
    "    print(a,end=\",\")\n"
   ]
  },
  {
   "cell_type": "code",
   "execution_count": 15,
   "metadata": {},
   "outputs": [
    {
     "name": "stdout",
     "output_type": "stream",
     "text": [
      "h\n",
      "eh\n",
      "leh\n",
      "lleh\n",
      "olleh\n"
     ]
    }
   ],
   "source": [
    "a= \"hello\"\n",
    "reverse=\"\"\n",
    "for char in a:\n",
    "    reverse =char+reverse\n",
    "    print(reverse)"
   ]
  },
  {
   "cell_type": "code",
   "execution_count": 19,
   "metadata": {},
   "outputs": [
    {
     "name": "stdout",
     "output_type": "stream",
     "text": [
      "4321\n"
     ]
    }
   ],
   "source": [
    "a=1234\n",
    "reverse=0\n",
    "while a>0:\n",
    "    rem=a % 10\n",
    "    reverse =reverse * 10 + rem\n",
    "    a = a // 10\n",
    "print(reverse)"
   ]
  },
  {
   "cell_type": "code",
   "execution_count": 1,
   "metadata": {},
   "outputs": [
    {
     "name": "stdout",
     "output_type": "stream",
     "text": [
      "enter a number2555\n",
      "5552\n",
      "2555 is not palindrome\n"
     ]
    }
   ],
   "source": [
    "num=int(input(\"enter a number\"))\n",
    "a=num\n",
    "reverse=0\n",
    "while a>0:\n",
    "    rem=a % 10\n",
    "    reverse =reverse * 10 + rem\n",
    "    a = a // 10\n",
    "print(reverse)\n",
    "if num==reverse:\n",
    "     print (num,\"is palindrome\")\n",
    "else:\n",
    "     print(num, \"is not palindrome\")\n"
   ]
  },
  {
   "cell_type": "code",
   "execution_count": 13,
   "metadata": {},
   "outputs": [
    {
     "name": "stdout",
     "output_type": "stream",
     "text": [
      "13 * 1 = 13\n",
      "13 * 2 = 26\n",
      "13 * 3 = 39\n",
      "13 * 4 = 52\n",
      "13 * 5 = 65\n",
      "13 * 6 = 78\n",
      "13 * 7 = 91\n",
      "13 * 8 = 104\n",
      "13 * 9 = 117\n",
      "13 * 10 = 130\n"
     ]
    }
   ],
   "source": [
    "num=13\n",
    "for i in range(1,11):\n",
    "    print(num, \"*\", i, \"=\", num * i)"
   ]
  },
  {
   "cell_type": "code",
   "execution_count": 6,
   "metadata": {},
   "outputs": [
    {
     "name": "stdout",
     "output_type": "stream",
     "text": [
      "32 * 1 = 32\n",
      "32 * 2 = 64\n",
      "32 * 3 = 96\n",
      "32 * 4 = 128\n",
      "32 * 5 = 160\n",
      "32 * 6 = 192\n",
      "32 * 7 = 224\n",
      "32 * 8 = 256\n",
      "32 * 9 = 288\n",
      "32 * 10 = 320\n"
     ]
    }
   ],
   "source": [
    "num=32num=13\n",
    "for i in range(1,11):\n",
    "    print(num, \"*\", i, \"=\", num * i)"
   ]
  },
  {
   "cell_type": "code",
   "execution_count": 10,
   "metadata": {},
   "outputs": [
    {
     "name": "stdout",
     "output_type": "stream",
     "text": [
      "printing table of 31\n",
      "31 * 1 = 31\n",
      "31 * 2 = 62\n",
      "31 * 3 = 93\n",
      "31 * 4 = 124\n",
      "31 * 5 = 155\n",
      "31 * 6 = 186\n",
      "31 * 7 = 217\n",
      "31 * 8 = 248\n",
      "31 * 9 = 279\n",
      "31 * 10 = 310\n",
      "\n",
      "printing table of 32\n",
      "32 * 1 = 32\n",
      "32 * 2 = 64\n",
      "32 * 3 = 96\n",
      "32 * 4 = 128\n",
      "32 * 5 = 160\n",
      "32 * 6 = 192\n",
      "32 * 7 = 224\n",
      "32 * 8 = 256\n",
      "32 * 9 = 288\n",
      "32 * 10 = 320\n",
      "\n",
      "printing table of 33\n",
      "33 * 1 = 33\n",
      "33 * 2 = 66\n",
      "33 * 3 = 99\n",
      "33 * 4 = 132\n",
      "33 * 5 = 165\n",
      "33 * 6 = 198\n",
      "33 * 7 = 231\n",
      "33 * 8 = 264\n",
      "33 * 9 = 297\n",
      "33 * 10 = 330\n",
      "\n",
      "printing table of 34\n",
      "34 * 1 = 34\n",
      "34 * 2 = 68\n",
      "34 * 3 = 102\n",
      "34 * 4 = 136\n",
      "34 * 5 = 170\n",
      "34 * 6 = 204\n",
      "34 * 7 = 238\n",
      "34 * 8 = 272\n",
      "34 * 9 = 306\n",
      "34 * 10 = 340\n",
      "\n",
      "printing table of 35\n",
      "35 * 1 = 35\n",
      "35 * 2 = 70\n",
      "35 * 3 = 105\n",
      "35 * 4 = 140\n",
      "35 * 5 = 175\n",
      "35 * 6 = 210\n",
      "35 * 7 = 245\n",
      "35 * 8 = 280\n",
      "35 * 9 = 315\n",
      "35 * 10 = 350\n",
      "\n",
      "printing table of 36\n",
      "36 * 1 = 36\n",
      "36 * 2 = 72\n",
      "36 * 3 = 108\n",
      "36 * 4 = 144\n",
      "36 * 5 = 180\n",
      "36 * 6 = 216\n",
      "36 * 7 = 252\n",
      "36 * 8 = 288\n",
      "36 * 9 = 324\n",
      "36 * 10 = 360\n",
      "\n",
      "printing table of 37\n",
      "37 * 1 = 37\n",
      "37 * 2 = 74\n",
      "37 * 3 = 111\n",
      "37 * 4 = 148\n",
      "37 * 5 = 185\n",
      "37 * 6 = 222\n",
      "37 * 7 = 259\n",
      "37 * 8 = 296\n",
      "37 * 9 = 333\n",
      "37 * 10 = 370\n",
      "\n",
      "printing table of 38\n",
      "38 * 1 = 38\n",
      "38 * 2 = 76\n",
      "38 * 3 = 114\n",
      "38 * 4 = 152\n",
      "38 * 5 = 190\n",
      "38 * 6 = 228\n",
      "38 * 7 = 266\n",
      "38 * 8 = 304\n",
      "38 * 9 = 342\n",
      "38 * 10 = 380\n",
      "\n",
      "printing table of 39\n",
      "39 * 1 = 39\n",
      "39 * 2 = 78\n",
      "39 * 3 = 117\n",
      "39 * 4 = 156\n",
      "39 * 5 = 195\n",
      "39 * 6 = 234\n",
      "39 * 7 = 273\n",
      "39 * 8 = 312\n",
      "39 * 9 = 351\n",
      "39 * 10 = 390\n",
      "\n",
      "printing table of 40\n",
      "40 * 1 = 40\n",
      "40 * 2 = 80\n",
      "40 * 3 = 120\n",
      "40 * 4 = 160\n",
      "40 * 5 = 200\n",
      "40 * 6 = 240\n",
      "40 * 7 = 280\n",
      "40 * 8 = 320\n",
      "40 * 9 = 360\n",
      "40 * 10 = 400\n",
      "\n"
     ]
    }
   ],
   "source": [
    "for num in range (31,41):\n",
    "    print (\"printing table of\",num)\n",
    "    for i in range(1,11,):\n",
    "        print(num, \"*\",i, \"=\", num* i)\n",
    "    print(\"\")"
   ]
  },
  {
   "cell_type": "code",
   "execution_count": 7,
   "metadata": {},
   "outputs": [
    {
     "name": "stdout",
     "output_type": "stream",
     "text": [
      " cube of  1 = 1\n",
      " cube of  2 = 8\n",
      " cube of  3 = 27\n",
      " cube of  4 = 64\n",
      " cube of  5 = 125\n",
      " cube of  6 = 216\n",
      " cube of  7 = 343\n",
      " cube of  8 = 512\n",
      " cube of  9 = 729\n",
      " cube of  10 = 1000\n",
      " cube of  11 = 1331\n",
      " cube of  12 = 1728\n",
      " cube of  13 = 2197\n",
      " cube of  14 = 2744\n",
      " cube of  15 = 3375\n",
      " cube of  16 = 4096\n",
      " cube of  17 = 4913\n",
      " cube of  18 = 5832\n",
      " cube of  19 = 6859\n",
      " cube of  20 = 8000\n",
      " cube of  21 = 9261\n",
      " cube of  22 = 10648\n",
      " cube of  23 = 12167\n",
      " cube of  24 = 13824\n",
      " cube of  25 = 15625\n",
      " cube of  26 = 17576\n",
      " cube of  27 = 19683\n",
      " cube of  28 = 21952\n",
      " cube of  29 = 24389\n"
     ]
    }
   ],
   "source": [
    "for num in range (1,30):\n",
    "    print (\" cube of \",num,\"=\", num ** 3)\n",
    "    "
   ]
  },
  {
   "cell_type": "code",
   "execution_count": 18,
   "metadata": {},
   "outputs": [
    {
     "name": "stdout",
     "output_type": "stream",
     "text": [
      "first 100 number even number are :\n",
      "0,2,4,6,8,10,12,14,16,18,20,22,24,26,28,30,32,34,36,38,40,42,44,46,48,50,52,54,56,58,60,62,64,66,68,70,72,74,76,78,80,82,84,86,88,90,92,94,96,98,100,102,104,106,108,110,112,114,116,118,120,122,124,126,128,130,132,134,136,138,140,142,144,146,148,150,152,154,156,158,160,162,164,166,168,170,172,174,176,178,180,182,184,186,188,190,192,194,196,198,"
     ]
    }
   ],
   "source": [
    "print(\"first 100 number even number are :\")\n",
    "for i in range(100):\n",
    "        print (i*2,end=\",\")"
   ]
  },
  {
   "cell_type": "code",
   "execution_count": 19,
   "metadata": {},
   "outputs": [
    {
     "name": "stdout",
     "output_type": "stream",
     "text": [
      "first 20 number divisable by 7 are :\n",
      "0,7,14,21,28,35,42,49,56,63,70,77,84,91,98,105,112,119,126,133,"
     ]
    }
   ],
   "source": [
    "print(\"first 20 number divisable by 7 are :\")\n",
    "for i in range(20):\n",
    "        print (i*7,end=\",\")"
   ]
  },
  {
   "cell_type": "code",
   "execution_count": 2,
   "metadata": {},
   "outputs": [
    {
     "name": "stdout",
     "output_type": "stream",
     "text": [
      "123456789101112131415161718192021222324252627282930313233343536373839404142434445464748495051525354555657585960616263646566676869707172737475767778798081828384858687888990919293949596979899100"
     ]
    }
   ],
   "source": [
    "a=0\n",
    "b=1\n",
    "series=0\n",
    "while series<101:\n",
    "    series=b+1\n",
    "    a=b\n",
    "    b=series\n",
    "    print(a,end=\"\")"
   ]
  },
  {
   "cell_type": "code",
   "execution_count": 3,
   "metadata": {},
   "outputs": [
    {
     "name": "stdout",
     "output_type": "stream",
     "text": [
      "0,1,2,3,5,7,11,13,17,19,23,29,31,37,41,43,47,53,59,61,67,71,73,79,83,89,97,"
     ]
    }
   ],
   "source": [
    "for num in range (100):\n",
    "    status=True\n",
    "    for i in range(2,num):\n",
    "        if num % i == 0:\n",
    "            status = False\n",
    "            break\n",
    "    if status:\n",
    "        print(num, end=\",\")"
   ]
  },
  {
   "cell_type": "code",
   "execution_count": 1,
   "metadata": {},
   "outputs": [
    {
     "name": "stdout",
     "output_type": "stream",
     "text": [
      "15 is not prime\n"
     ]
    }
   ],
   "source": [
    "num=15\n",
    "status=True\n",
    "for i in range(2,num):\n",
    "    if num % i == 0:\n",
    "        print(num, \"is not prime\")\n",
    "        status=False\n",
    "        break\n",
    "if status:\n",
    "    print(num,\"is prime\")"
   ]
  },
  {
   "cell_type": "code",
   "execution_count": 11,
   "metadata": {},
   "outputs": [
    {
     "name": "stdout",
     "output_type": "stream",
     "text": [
      "12\n",
      "13\n",
      "35\n",
      "56\n",
      "67\n",
      "78\n"
     ]
    }
   ],
   "source": [
    "a,b,c,d,e,f=12,13,35,56,67,78\n",
    "\n",
    "print(a)\n",
    "print(b)\n",
    "print(c)\n",
    "print(d)\n",
    "print(e)\n",
    "print(f)"
   ]
  },
  {
   "cell_type": "code",
   "execution_count": 4,
   "metadata": {},
   "outputs": [
    {
     "name": "stdout",
     "output_type": "stream",
     "text": [
      "(12, 12, 24, 45)\n"
     ]
    }
   ],
   "source": [
    "a=12,12,24,45\n",
    "\n",
    "print(a)"
   ]
  },
  {
   "cell_type": "code",
   "execution_count": 7,
   "metadata": {},
   "outputs": [
    {
     "name": "stdout",
     "output_type": "stream",
     "text": [
      "(12, 'hwllo', 'abd', 45)\n"
     ]
    }
   ],
   "source": [
    "a = 12, \"hwllo\",\"abd\",45\n",
    "print(a)"
   ]
  },
  {
   "cell_type": "code",
   "execution_count": 9,
   "metadata": {},
   "outputs": [
    {
     "name": "stdout",
     "output_type": "stream",
     "text": [
      "<class 'tuple'>\n",
      "<class 'tuple'>\n"
     ]
    }
   ],
   "source": [
    "a= (12,34,56,68,89,23,34,12,45)\n",
    "a2=12,34,56,68,89,23,34,12,45\n",
    "a3=tuple(range(2, 100, 5))\n",
    "print(type(a))\n",
    "print(type(a2))"
   ]
  },
  {
   "cell_type": "code",
   "execution_count": 10,
   "metadata": {},
   "outputs": [
    {
     "name": "stdout",
     "output_type": "stream",
     "text": [
      "(12, 34, 56, 68, 89, 23, 34, 12, 45)\n",
      "(12, 34, 56, 68, 89, 23, 34, 12, 45)\n",
      "(2, 7, 12, 17, 22, 27, 32, 37, 42, 47, 52, 57, 62, 67, 72, 77, 82, 87, 92, 97)\n"
     ]
    }
   ],
   "source": [
    "a= (12,34,56,68,89,23,34,12,45)\n",
    "a2=12,34,56,68,89,23,34,12,45\n",
    "a3=tuple(range(2,100,5))\n",
    "print(a)\n",
    "print(a2)\n",
    "print(a3)"
   ]
  },
  {
   "cell_type": "code",
   "execution_count": 11,
   "metadata": {},
   "outputs": [
    {
     "name": "stdout",
     "output_type": "stream",
     "text": [
      "34\n",
      "12\n",
      "45\n"
     ]
    },
    {
     "ename": "IndexError",
     "evalue": "tuple index out of range",
     "output_type": "error",
     "traceback": [
      "\u001b[1;31m---------------------------------------------------------------------------\u001b[0m",
      "\u001b[1;31mIndexError\u001b[0m                                Traceback (most recent call last)",
      "\u001b[1;32m<ipython-input-11-f305cd6ab9b5>\u001b[0m in \u001b[0;36m<module>\u001b[1;34m\u001b[0m\n\u001b[0;32m      3\u001b[0m \u001b[0mprint\u001b[0m\u001b[1;33m(\u001b[0m\u001b[0ma\u001b[0m\u001b[1;33m[\u001b[0m\u001b[1;36m7\u001b[0m\u001b[1;33m]\u001b[0m\u001b[1;33m)\u001b[0m\u001b[1;33m\u001b[0m\u001b[1;33m\u001b[0m\u001b[0m\n\u001b[0;32m      4\u001b[0m \u001b[0mprint\u001b[0m\u001b[1;33m(\u001b[0m\u001b[0ma\u001b[0m\u001b[1;33m[\u001b[0m\u001b[1;36m8\u001b[0m\u001b[1;33m]\u001b[0m\u001b[1;33m)\u001b[0m\u001b[1;33m\u001b[0m\u001b[1;33m\u001b[0m\u001b[0m\n\u001b[1;32m----> 5\u001b[1;33m \u001b[0mprint\u001b[0m\u001b[1;33m(\u001b[0m\u001b[0ma\u001b[0m\u001b[1;33m[\u001b[0m\u001b[1;36m9\u001b[0m\u001b[1;33m]\u001b[0m\u001b[1;33m)\u001b[0m\u001b[1;33m\u001b[0m\u001b[1;33m\u001b[0m\u001b[0m\n\u001b[0m",
      "\u001b[1;31mIndexError\u001b[0m: tuple index out of range"
     ]
    }
   ],
   "source": [
    "a= (12,34,56,68,89,23,34,12,45)\n",
    "print(a[1])\n",
    "print(a[7])\n",
    "print(a[8])\n",
    "print(a[])"
   ]
  },
  {
   "cell_type": "code",
   "execution_count": 12,
   "metadata": {},
   "outputs": [
    {
     "name": "stdout",
     "output_type": "stream",
     "text": [
      "34\n",
      "12\n",
      "45\n",
      "45\n",
      "56\n",
      "34\n"
     ]
    }
   ],
   "source": [
    "a= (12,34,56,68,89,23,34,12,45)\n",
    "print(a[1])\n",
    "print(a[7])\n",
    "print(a[8])\n",
    "print(a[-1])\n",
    "print(a[-7])\n",
    "print(a[-8])"
   ]
  },
  {
   "cell_type": "code",
   "execution_count": 13,
   "metadata": {},
   "outputs": [
    {
     "name": "stdout",
     "output_type": "stream",
     "text": [
      "9\n"
     ]
    }
   ],
   "source": [
    "a= (12,34,56,68,89,23,34,12,45)\n",
    "print(len((a)))\n"
   ]
  },
  {
   "cell_type": "code",
   "execution_count": 14,
   "metadata": {},
   "outputs": [
    {
     "name": "stdout",
     "output_type": "stream",
     "text": [
      "12\n",
      "34\n",
      "56\n",
      "68\n",
      "89\n",
      "23\n",
      "34\n",
      "12\n",
      "45\n"
     ]
    }
   ],
   "source": [
    "a= (12,34,56,68,89,23,34,12,45)\n",
    "for i in range(len(a)):\n",
    "    print(a[i])"
   ]
  },
  {
   "cell_type": "code",
   "execution_count": 15,
   "metadata": {},
   "outputs": [
    {
     "name": "stdout",
     "output_type": "stream",
     "text": [
      "12\n",
      "34\n",
      "56\n",
      "68\n",
      "89\n",
      "23\n",
      "34\n",
      "12\n",
      "45\n",
      "12,34,56,68,89,23,34,12,45,"
     ]
    }
   ],
   "source": [
    "a= (12,34,56,68,89,23,34,12,45)\n",
    "for i in range(len(a)):\n",
    "    print(a[i])\n",
    "\n",
    "for element in a:\n",
    "        print(element,end=\",\")"
   ]
  },
  {
   "cell_type": "code",
   "execution_count": 16,
   "metadata": {},
   "outputs": [
    {
     "name": "stdout",
     "output_type": "stream",
     "text": [
      "(56, 68)\n"
     ]
    }
   ],
   "source": [
    "a= (12,34,56,68,89,23,34,12,45)\n",
    "\n",
    "print(a[2:4])"
   ]
  },
  {
   "cell_type": "code",
   "execution_count": 18,
   "metadata": {},
   "outputs": [
    {
     "name": "stdout",
     "output_type": "stream",
     "text": [
      "(56, 68)\n",
      "(12, 34, 56, 68)\n",
      "(56, 68, 89, 23, 34, 12, 45)\n"
     ]
    }
   ],
   "source": [
    "a= (12,34,56,68,89,23,34,12,45)\n",
    "print(a[2:4])\n",
    "print(a[:4])\n",
    "print(a[2:])"
   ]
  },
  {
   "cell_type": "code",
   "execution_count": 25,
   "metadata": {},
   "outputs": [
    {
     "name": "stdout",
     "output_type": "stream",
     "text": [
      "1. (56, 68)\n",
      "2. (12, 34, 56, 68)\n",
      "3. (56, 68, 89, 23, 34, 12, 45)\n",
      "4. (12, 34)\n",
      "5. (45, 12, 34)\n",
      "6. (12, 45)\n"
     ]
    }
   ],
   "source": [
    "a= (12,34,56,68,89,23,34,12,45)\n",
    "print(\"1.\",a[2:4])\n",
    "print(\"2.\",a[:4])\n",
    "print(\"3.\",a[2:])\n",
    "print(\"4.\",a[-2:-4:-1])\n",
    "print(\"5.\",a[:-4:-1])\n",
    "print(\"6.\",a[-2:])\n"
   ]
  },
  {
   "cell_type": "code",
   "execution_count": 31,
   "metadata": {},
   "outputs": [
    {
     "name": "stdout",
     "output_type": "stream",
     "text": [
      "2\n",
      "8\n",
      "0\n",
      "0,7,"
     ]
    }
   ],
   "source": [
    "a= (12,34,56,68,89,23,34,12,45)\n",
    "print(a.count(12))\n",
    "print(a.index(45))\n",
    "print(a.index(12))\n",
    "for i in range (len(a)):\n",
    "    if a[i]==12:\n",
    "        print(i,end =\",\")"
   ]
  },
  {
   "cell_type": "code",
   "execution_count": 35,
   "metadata": {},
   "outputs": [
    {
     "name": "stdout",
     "output_type": "stream",
     "text": [
      "2\n",
      "1\n",
      "0\n",
      "0,7,"
     ]
    }
   ],
   "source": [
    "a= (12,34,56,68,89,23,34,12,45)\n",
    "\n",
    "print(a.count(12))\n",
    "print(a.count(45))\n",
    "print(a.index(12, ))\n",
    "\n",
    "index=0\n",
    "for i in range (a.count(12)):\n",
    "    index=a.index(12, index)\n",
    "    print(index,end =\",\")\n",
    "    index= index+1"
   ]
  },
  {
   "cell_type": "code",
   "execution_count": 2,
   "metadata": {},
   "outputs": [
    {
     "name": "stdout",
     "output_type": "stream",
     "text": [
      "373\n",
      "89\n",
      "12\n",
      "[12, 12, 23, 34, 34, 45, 56, 68, 89]\n",
      "[89, 68, 56, 45, 34, 34, 23, 12, 12]\n"
     ]
    }
   ],
   "source": [
    "a= (12,34,56,68,89,23,34,12,45)\n",
    "\n",
    "print(sum(a))\n",
    "print(max(a))\n",
    "print(min(a))\n",
    "print(sorted(a))\n",
    "print(sorted(a, reverse=True))"
   ]
  },
  {
   "cell_type": "code",
   "execution_count": 7,
   "metadata": {},
   "outputs": [
    {
     "name": "stdout",
     "output_type": "stream",
     "text": [
      "45\n",
      "23\n",
      "89\n",
      "12\n"
     ]
    }
   ],
   "source": [
    "a=((12,34,56),\n",
    "    (68,89,23),\n",
    "    (34,12,45))\n",
    "print(a[2][2])\n",
    "print(a[1][2])\n",
    "print(a[1][1])\n",
    "print(a[2][1])"
   ]
  },
  {
   "cell_type": "code",
   "execution_count": 8,
   "metadata": {},
   "outputs": [
    {
     "name": "stdout",
     "output_type": "stream",
     "text": [
      "12\n",
      "34\n",
      "56\n",
      "68\n",
      "89\n",
      "23\n",
      "34\n",
      "12\n",
      "45\n"
     ]
    }
   ],
   "source": [
    "a=((12,34,56),\n",
    "    (68,89,23),\n",
    "    (34,12,45))\n",
    "for row in a:\n",
    "    for i in row:\n",
    "        print(i)"
   ]
  },
  {
   "cell_type": "code",
   "execution_count": 10,
   "metadata": {},
   "outputs": [
    {
     "name": "stdout",
     "output_type": "stream",
     "text": [
      "(45, 12, 34, 23, 89, 68, 56, 34, 12)\n"
     ]
    }
   ],
   "source": [
    "a=(12,34,56,68,89,23,34,12,45)\n",
    "print(a[::-1])\n"
   ]
  },
  {
   "cell_type": "code",
   "execution_count": 13,
   "metadata": {},
   "outputs": [
    {
     "name": "stdout",
     "output_type": "stream",
     "text": [
      "[36, 102, 168, 204, 267, 69, 102, 36, 135]\n"
     ]
    }
   ],
   "source": [
    "a=(12,34,56,68,89,23,34,12,45)\n",
    "t=[i*3 for i in a]\n",
    "print(t)\n"
   ]
  },
  {
   "cell_type": "code",
   "execution_count": null,
   "metadata": {},
   "outputs": [],
   "source": []
  }
 ],
 "metadata": {
  "kernelspec": {
   "display_name": "Python 3",
   "language": "python",
   "name": "python3"
  },
  "language_info": {
   "codemirror_mode": {
    "name": "ipython",
    "version": 3
   },
   "file_extension": ".py",
   "mimetype": "text/x-python",
   "name": "python",
   "nbconvert_exporter": "python",
   "pygments_lexer": "ipython3",
   "version": "3.7.1"
  }
 },
 "nbformat": 4,
 "nbformat_minor": 2
}
