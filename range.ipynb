{
 "cells": [
  {
   "cell_type": "code",
   "execution_count": 35,
   "metadata": {},
   "outputs": [
    {
     "name": "stdout",
     "output_type": "stream",
     "text": [
      "0\n",
      "1\n",
      "2\n",
      "3\n",
      "4\n",
      "5\n",
      "6\n",
      "7\n",
      "8\n",
      "9\n"
     ]
    }
   ],
   "source": [
    "for i in range(10):\n",
    "    print(i)"
   ]
  },
  {
   "cell_type": "code",
   "execution_count": 40,
   "metadata": {},
   "outputs": [
    {
     "name": "stdout",
     "output_type": "stream",
     "text": [
      "\n",
      " for i in the range (4,60,3)\n",
      "4,7,10,13,16,19,22,25,28,31,34,37,40,43,46,49,52,55,58,"
     ]
    }
   ],
   "source": [
    "print(\"\\n for i in the range (4,60,3)\")\n",
    "for i in range(4,60,3):\n",
    "     print (i,end=\",\")"
   ]
  },
  {
   "cell_type": "code",
   "execution_count": 41,
   "metadata": {},
   "outputs": [
    {
     "name": "stdout",
     "output_type": "stream",
     "text": [
      "\n",
      " for i in the range(2,20)\n",
      "\n",
      " for i in the range(2,20)\n",
      "\n",
      " for i in the range(2,20)\n",
      "\n",
      " for i in the range(2,20)\n",
      "\n",
      " for i in the range(2,20)\n",
      "\n",
      " for i in the range(2,20)\n",
      "\n",
      " for i in the range(2,20)\n",
      "\n",
      " for i in the range(2,20)\n",
      "\n",
      " for i in the range(2,20)\n",
      "\n",
      " for i in the range(2,20)\n",
      "\n",
      " for i in the range(2,20)\n",
      "\n",
      " for i in the range(2,20)\n",
      "\n",
      " for i in the range(2,20)\n",
      "\n",
      " for i in the range(2,20)\n",
      "\n",
      " for i in the range(2,20)\n",
      "\n",
      " for i in the range(2,20)\n",
      "\n",
      " for i in the range(2,20)\n",
      "\n",
      " for i in the range(2,20)\n"
     ]
    }
   ],
   "source": [
    "for i in range(2,20):\n",
    "    print(\"\\n for i in the range(2,20)\")"
   ]
  },
  {
   "cell_type": "code",
   "execution_count": null,
   "metadata": {},
   "outputs": [],
   "source": []
  }
 ],
 "metadata": {
  "kernelspec": {
   "display_name": "Python 3",
   "language": "python",
   "name": "python3"
  },
  "language_info": {
   "codemirror_mode": {
    "name": "ipython",
    "version": 3
   },
   "file_extension": ".py",
   "mimetype": "text/x-python",
   "name": "python",
   "nbconvert_exporter": "python",
   "pygments_lexer": "ipython3",
   "version": "3.7.1"
  }
 },
 "nbformat": 4,
 "nbformat_minor": 2
}
