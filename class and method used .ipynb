{
 "cells": [
  {
   "cell_type": "code",
   "execution_count": 1,
   "metadata": {},
   "outputs": [
    {
     "name": "stdout",
     "output_type": "stream",
     "text": [
      "[13, 26, 39, 52, 65, 78]\n"
     ]
    }
   ],
   "source": [
    "li = [7,13,19,26,32,39,42,52,65,78,81]\n",
    "\n",
    "l = list(filter(lambda x: (x % 13 == 0), li))\n",
    "print(l)"
   ]
  },
  {
   "cell_type": "code",
   "execution_count": 4,
   "metadata": {},
   "outputs": [
    {
     "name": "stdout",
     "output_type": "stream",
     "text": [
      "[13, 26, 39, 52, 65, 78]\n",
      "[13, 26, 39, 52, 65, 78]\n"
     ]
    }
   ],
   "source": [
    "li = [7,13,19,26,32,39,42,52,65,78,81]\n",
    "\n",
    "l = list(filter(lambda x: (x % 13 == 0), li))\n",
    "print(l)\n",
    "\n",
    "def check(num):\n",
    "    return num % 13 == 0\n",
    "    \n",
    "f = list(filter(check,li))\n",
    "print(f)"
   ]
  },
  {
   "cell_type": "code",
   "execution_count": 4,
   "metadata": {},
   "outputs": [
    {
     "name": "stdout",
     "output_type": "stream",
     "text": [
      "vikram\n"
     ]
    }
   ],
   "source": [
    "class N:\n",
    "    def m1 (self, n1):\n",
    "        self.n1 = n1\n",
    "        \n",
    "    def m2(self):\n",
    "        print(self.n1)\n",
    "\n",
    "n = N()\n",
    "n.m1 (\"vikram\")\n",
    "n.m2()"
   ]
  },
  {
   "cell_type": "code",
   "execution_count": 11,
   "metadata": {},
   "outputs": [
    {
     "name": "stdout",
     "output_type": "stream",
     "text": [
      "10\n"
     ]
    }
   ],
   "source": [
    "class A:\n",
    "    __i = 10\n",
    "    def aaa(self):\n",
    "        return self.__i\n",
    "    \n",
    "a = A ()\n",
    "print (a.aaa())"
   ]
  },
  {
   "cell_type": "code",
   "execution_count": 14,
   "metadata": {},
   "outputs": [
    {
     "name": "stdout",
     "output_type": "stream",
     "text": [
      "10\n"
     ]
    }
   ],
   "source": [
    "class A:\n",
    "    _i = 10\n",
    "    \n",
    "a = A ()\n",
    "print (a._i)"
   ]
  },
  {
   "cell_type": "code",
   "execution_count": 1,
   "metadata": {},
   "outputs": [
    {
     "name": "stdout",
     "output_type": "stream",
     "text": [
      "vikarm\n"
     ]
    }
   ],
   "source": [
    "class N:\n",
    "    def m1(self, n1):\n",
    "        self.n1 = n1\n",
    "        \n",
    "    def m2(self):\n",
    "        print(self.n1)\n",
    "    \n",
    "n = N()\n",
    "n.m1 (\"vikarm\")\n",
    "n.m2()"
   ]
  },
  {
   "cell_type": "code",
   "execution_count": 5,
   "metadata": {},
   "outputs": [
    {
     "name": "stdout",
     "output_type": "stream",
     "text": [
      "Hii, I am constructor\n",
      "hii, i am a method\n"
     ]
    }
   ],
   "source": [
    "class N:\n",
    "    def __init__(self) :\n",
    "        print(\"Hii, I am constructor\")\n",
    "        \n",
    "    def m(self):\n",
    "        print(\"hii, i am a method\")\n",
    "        \n",
    "N() .m()"
   ]
  },
  {
   "cell_type": "code",
   "execution_count": null,
   "metadata": {},
   "outputs": [],
   "source": []
  }
 ],
 "metadata": {
  "kernelspec": {
   "display_name": "Python 3",
   "language": "python",
   "name": "python3"
  },
  "language_info": {
   "codemirror_mode": {
    "name": "ipython",
    "version": 3
   },
   "file_extension": ".py",
   "mimetype": "text/x-python",
   "name": "python",
   "nbconvert_exporter": "python",
   "pygments_lexer": "ipython3",
   "version": "3.7.1"
  }
 },
 "nbformat": 4,
 "nbformat_minor": 2
}
