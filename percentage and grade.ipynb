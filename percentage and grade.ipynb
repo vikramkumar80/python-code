{
 "cells": [
  {
   "cell_type": "code",
   "execution_count": 1,
   "metadata": {},
   "outputs": [
    {
     "name": "stdout",
     "output_type": "stream",
     "text": [
      "enter obtained marks;25\n",
      "enter total marks;36\n",
      "obtained mark and total marks\n",
      "69.44444444444444\n",
      "pass\n",
      "C grade\n"
     ]
    }
   ],
   "source": [
    "obtained_marks=int(input(\"enter obtained marks;\"))\n",
    "total_marks=int(input(\"enter total marks;\"))\n",
    "if total_marks>=obtained_marks:\n",
    "    print(\"obtained mark and total marks\")\n",
    "    percentage=obtained_marks/total_marks*100\n",
    "    print(percentage)\n",
    "    if percentage>=40:\n",
    "        print(\"pass\")\n",
    "        if percentage>=85:\n",
    "            print(\"A grade\")\n",
    "        elif percentage>=70:\n",
    "            print(\"B grade\")\n",
    "        elif percentage>=35:\n",
    "            print(\"C grade\")\n",
    "        else:\n",
    "            print(\"D grade\")\n",
    "    else:\n",
    "        print(\"fail\")\n",
    "else:\n",
    "    print(\"obtained mark is greater than total marks\")    "
   ]
  },
  {
   "cell_type": "code",
   "execution_count": 2,
   "metadata": {},
   "outputs": [
    {
     "name": "stdout",
     "output_type": "stream",
     "text": [
      "enter first number21\n",
      "enter second number36\n",
      "<class 'int'>\n",
      "sum 21 and 36 is 57\n"
     ]
    }
   ],
   "source": [
    "a=int(input(\"enter first number\"))\n",
    "b=int(input(\"enter second number\"))\n",
    "print(type(a))\n",
    "sum=a+b\n",
    "print(\"sum\",a,\"and\",b,\"is\",sum)"
   ]
  },
  {
   "cell_type": "code",
   "execution_count": 3,
   "metadata": {},
   "outputs": [
    {
     "name": "stdout",
     "output_type": "stream",
     "text": [
      "enter first number36\n",
      "enter second number35\n",
      "sum of 36 and 35 is 71\n",
      "sum of 36 and 35 is 71\n"
     ]
    }
   ],
   "source": [
    "a=int(input(\"enter first number\"))\n",
    "b=int(input(\"enter second number\"))\n",
    "sum=(a+b)\n",
    "print(\"sum of\",a,\"and\",b,\"is\",sum)\n",
    "print(\"sum of {} and {} is {}\".format(a,b,sum))"
   ]
  },
  {
   "cell_type": "code",
   "execution_count": 4,
   "metadata": {},
   "outputs": [
    {
     "name": "stdout",
     "output_type": "stream",
     "text": [
      "enter any number36\n",
      "even\n"
     ]
    }
   ],
   "source": [
    "num=int (input(\"enter any number\"))\n",
    "if num % 2 == 0:\n",
    "    print(\"even\")\n",
    "else:\n",
    "    print(\"odd\")"
   ]
  },
  {
   "cell_type": "code",
   "execution_count": 5,
   "metadata": {},
   "outputs": [
    {
     "name": "stdout",
     "output_type": "stream",
     "text": [
      "enter any number58\n",
      "is not divisble by 13\n"
     ]
    }
   ],
   "source": [
    "num=int(input(\"enter any number\"))\n",
    "if num% 13==0:\n",
    "    print (\"is divisble by 13\")\n",
    "else:\n",
    "    print(\"is not divisble by 13\")"
   ]
  },
  {
   "cell_type": "code",
   "execution_count": null,
   "metadata": {},
   "outputs": [],
   "source": []
  }
 ],
 "metadata": {
  "kernelspec": {
   "display_name": "Python 3",
   "language": "python",
   "name": "python3"
  },
  "language_info": {
   "codemirror_mode": {
    "name": "ipython",
    "version": 3
   },
   "file_extension": ".py",
   "mimetype": "text/x-python",
   "name": "python",
   "nbconvert_exporter": "python",
   "pygments_lexer": "ipython3",
   "version": "3.7.1"
  }
 },
 "nbformat": 4,
 "nbformat_minor": 2
}
