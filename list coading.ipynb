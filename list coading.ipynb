{
 "cells": [
  {
   "cell_type": "code",
   "execution_count": 2,
   "metadata": {},
   "outputs": [
    {
     "name": "stdout",
     "output_type": "stream",
     "text": [
      "373\n",
      "89\n",
      "12\n",
      "[12, 12, 23, 34, 34, 45, 56, 68, 89]\n",
      "[89, 68, 56, 45, 34, 34, 23, 12, 12]\n"
     ]
    }
   ],
   "source": [
    "a=[12,34,56,68,89,23,34,12,45]\n",
    "\n",
    "print(sum(a))\n",
    "print(max(a))\n",
    "print(min(a))\n",
    "print(sorted(a))\n",
    "print(sorted(a, reverse=True))"
   ]
  },
  {
   "cell_type": "code",
   "execution_count": 3,
   "metadata": {},
   "outputs": [
    {
     "name": "stdout",
     "output_type": "stream",
     "text": [
      "[36, 102, 168, 204, 267, 69, 102, 36, 135]\n"
     ]
    }
   ],
   "source": [
    "a=[12,34,56,68,89,23,34,12,45]\n",
    "t=[i*3 for i in a]\n",
    "print(t)"
   ]
  },
  {
   "cell_type": "code",
   "execution_count": 7,
   "metadata": {},
   "outputs": [
    {
     "name": "stdout",
     "output_type": "stream",
     "text": [
      "373\n",
      "89\n",
      "12\n",
      "[12, 12, 23, 34, 34, 45, 56, 68, 89]\n",
      "[89, 68, 56, 45, 34, 34, 23, 12, 12]\n",
      "9\n",
      "2\n",
      "1\n",
      "[34, 56, 68, 89, 23, 34]\n",
      "[]\n",
      "[12, 34, 56, 68, 89, 23, 34]\n",
      "[12, 56, 89, 34, 45]\n",
      "[45, 34, 89, 56, 12]\n"
     ]
    }
   ],
   "source": [
    "a=[12,34,56,68,89,23,34,12,45]\n",
    "\n",
    "print(sum(a))\n",
    "print(max(a))\n",
    "print(min(a))\n",
    "print(sorted(a))\n",
    "print(sorted(a, reverse=True))\n",
    "print(len(a))\n",
    "print(a.count(34))\n",
    "print(a.index(34))\n",
    "print(a[1:7])\n",
    "print(a[7:1])\n",
    "print(a[:7])\n",
    "print(a[::2])\n",
    "print(a[::-2])\n"
   ]
  },
  {
   "cell_type": "code",
   "execution_count": 15,
   "metadata": {},
   "outputs": [
    {
     "name": "stdout",
     "output_type": "stream",
     "text": [
      "[12, 34, 56, 68, 89, 23, 34, 12, 45]\n",
      "[12, 34, 56, 68, 89, 23, 34, 12, 45, 12]\n",
      "[34, 56, 68, 89, 23, 34, 12, 45, 12]\n",
      "[34, 56, 68, 89, 34, 12, 45, 12]\n",
      "[34, 17, 56, 68, 89, 34, 12, 45, 12]\n",
      "[34, 17, 56, 68, 89, 34, 12, 45, 12, 2, 6, 8, 4, 7]\n"
     ]
    }
   ],
   "source": [
    "a=[12,34,56,68,89,23,34,12,45]\n",
    "print(a)\n",
    "a.append(12)\n",
    "print(a)\n",
    "a.remove(12)\n",
    "print(a)\n",
    "a.pop(4)\n",
    "print(a)\n",
    "a.insert(1,17)\n",
    "print(a)\n",
    "b=[2,6,8,4,7]\n",
    "a.extend(b)\n",
    "print(a)"
   ]
  },
  {
   "cell_type": "code",
   "execution_count": 18,
   "metadata": {},
   "outputs": [
    {
     "name": "stdout",
     "output_type": "stream",
     "text": [
      "[12, 34, 56, 68, 89, 23, 34, 12, 45]\n",
      "[19, 34, 56, 68, 89, 23, 34, 12, 45]\n"
     ]
    }
   ],
   "source": [
    "a=[12,34,56,68,89,23,34,12,45]\n",
    "print(a)\n",
    "a[0]=19\n",
    "print(a)"
   ]
  },
  {
   "cell_type": "code",
   "execution_count": 19,
   "metadata": {},
   "outputs": [
    {
     "name": "stdout",
     "output_type": "stream",
     "text": [
      "[12, 34, 56, 68, 89, 23, 34, 12, 45]\n",
      "[[19, 23, 34, 23], 34, 56, 68, 89, 23, 34, 12, 45]\n"
     ]
    }
   ],
   "source": [
    "a=[12,34,56,68,89,23,34,12,45]\n",
    "print(a)\n",
    "a[0]=[19,23,34,23]\n",
    "print(a)"
   ]
  },
  {
   "cell_type": "code",
   "execution_count": 21,
   "metadata": {},
   "outputs": [
    {
     "name": "stdout",
     "output_type": "stream",
     "text": [
      "[12, 34, 56, 68, 89, 23, 34, 12, 45]\n",
      "34\n"
     ]
    }
   ],
   "source": [
    "a=[12,34,56,68,89,23,34,12,45]\n",
    "print(a)\n",
    "a[0]=[19,23,34,23]\n",
    "print(a[0][2])"
   ]
  },
  {
   "cell_type": "code",
   "execution_count": 23,
   "metadata": {},
   "outputs": [
    {
     "name": "stdout",
     "output_type": "stream",
     "text": [
      "[12, 34, 56, 68, 89, 23, 34, 12, 45]\n",
      "34\n"
     ]
    },
    {
     "ename": "NameError",
     "evalue": "name 'a' is not defined",
     "output_type": "error",
     "traceback": [
      "\u001b[1;31m---------------------------------------------------------------------------\u001b[0m",
      "\u001b[1;31mNameError\u001b[0m                                 Traceback (most recent call last)",
      "\u001b[1;32m<ipython-input-23-ccf613bb9835>\u001b[0m in \u001b[0;36m<module>\u001b[1;34m\u001b[0m\n\u001b[0;32m      5\u001b[0m \u001b[1;33m\u001b[0m\u001b[0m\n\u001b[0;32m      6\u001b[0m \u001b[1;32mdel\u001b[0m \u001b[0ma\u001b[0m\u001b[1;33m\u001b[0m\u001b[1;33m\u001b[0m\u001b[0m\n\u001b[1;32m----> 7\u001b[1;33m \u001b[0mprint\u001b[0m\u001b[1;33m(\u001b[0m\u001b[0ma\u001b[0m\u001b[1;33m)\u001b[0m\u001b[1;33m\u001b[0m\u001b[1;33m\u001b[0m\u001b[0m\n\u001b[0m",
      "\u001b[1;31mNameError\u001b[0m: name 'a' is not defined"
     ]
    }
   ],
   "source": [
    "a=[12,34,56,68,89,23,34,12,45]\n",
    "print(a)\n",
    "a[0]=[19,23,34,23]\n",
    "print(a[0][2])\n",
    "      \n",
    "del a\n",
    "print(a)"
   ]
  },
  {
   "cell_type": "code",
   "execution_count": 4,
   "metadata": {},
   "outputs": [
    {
     "name": "stdout",
     "output_type": "stream",
     "text": [
      "<class 'set'>\n",
      "{34, 68, 12, 45, 23, 56, 89}\n",
      "7\n"
     ]
    }
   ],
   "source": [
    "a={12,34,56,68,89,23,34,12,45}\n",
    "print(type(a))\n",
    "print(a)\n",
    "print(len(a))\n",
    "\n"
   ]
  },
  {
   "cell_type": "code",
   "execution_count": 12,
   "metadata": {},
   "outputs": [
    {
     "name": "stdout",
     "output_type": "stream",
     "text": [
      "<class 'set'>\n",
      "{34, 68, 11, 12, 45, 23, 56, 89}\n",
      "8\n",
      "89\n",
      "11\n",
      "[11, 12, 23, 34, 45, 56, 68, 89]\n",
      "338\n"
     ]
    }
   ],
   "source": [
    "a={68,11,12,34,56,68,89,23,34,12,45}\n",
    "print(type(a))\n",
    "print(a)\n",
    "print(len(a))\n",
    "print(max(a))\n",
    "print(min(a))\n",
    "print(sorted(a))\n",
    "print(sum(a))\n",
    "\n"
   ]
  },
  {
   "cell_type": "code",
   "execution_count": 14,
   "metadata": {},
   "outputs": [
    {
     "name": "stdout",
     "output_type": "stream",
     "text": [
      "True\n"
     ]
    }
   ],
   "source": [
    "a={12,34,56,68,89,23,34,12,45}\n",
    "print(68 in a)\n",
    "\n"
   ]
  },
  {
   "cell_type": "code",
   "execution_count": 16,
   "metadata": {},
   "outputs": [
    {
     "name": "stdout",
     "output_type": "stream",
     "text": [
      "True\n",
      "34\n",
      "68\n",
      "12\n",
      "45\n",
      "23\n",
      "56\n",
      "89\n"
     ]
    }
   ],
   "source": [
    "a={12,34,56,68,89,23,34,12,45}\n",
    "print(68 in a)\n",
    "for i in a:\n",
    "    print(i)"
   ]
  },
  {
   "cell_type": "code",
   "execution_count": 26,
   "metadata": {},
   "outputs": [
    {
     "name": "stdout",
     "output_type": "stream",
     "text": [
      "True\n",
      "34\n",
      "68\n",
      "12\n",
      "45\n",
      "23\n",
      "56\n",
      "89\n",
      "[34, 68, 12, 45, 23, 56, 89]\n",
      "{34, 68, 12, 45, 13, 23, 56, 89}\n",
      "{34, 68, 45, 13, 23, 56, 89}\n"
     ]
    }
   ],
   "source": [
    "a={12,34,56,68,89,23,34,12,45}\n",
    "print(68 in a)\n",
    "for i in a:\n",
    "    print(i)\n",
    "I=list(a)\n",
    "print(I)\n",
    "a.add(13)\n",
    "print(a)\n",
    "a.remove(12)\n",
    "print(a)"
   ]
  },
  {
   "cell_type": "code",
   "execution_count": 31,
   "metadata": {},
   "outputs": [
    {
     "name": "stdout",
     "output_type": "stream",
     "text": [
      "{34, 68, 12, 45, 23, 56, 89}\n",
      "{34, 68, 45, 23, 56, 89}\n"
     ]
    }
   ],
   "source": [
    "a={12,34,56,68,89,23,34,12,45}\n",
    "print(a)\n",
    "a.discard(12)\n",
    "print(a)"
   ]
  },
  {
   "cell_type": "code",
   "execution_count": 37,
   "metadata": {},
   "outputs": [
    {
     "name": "stdout",
     "output_type": "stream",
     "text": [
      "{34, 68, 12, 45, 23, 56, 89}\n",
      "{34, 67, 68, 12, 45, 78, 23, 56, 89}\n"
     ]
    }
   ],
   "source": [
    "a={12,34,56,68,89,23,34,12,45}\n",
    "print(a)\n",
    "a.update((12,23,34,45,56,67,78,78))\n",
    "print(a)"
   ]
  },
  {
   "cell_type": "code",
   "execution_count": 44,
   "metadata": {},
   "outputs": [
    {
     "name": "stdout",
     "output_type": "stream",
     "text": [
      "{34, 68, 11, 12, 45, 23, 56, 89}\n",
      "{34, 67, 12, 45, 78, 23, 56}\n",
      "{89, 11, 68}\n",
      "{34, 12, 45, 23, 56}\n",
      "{34, 67, 68, 11, 12, 45, 78, 23, 56, 89}\n",
      "False\n",
      "<built-in method symmetric_difference of set object at 0x000001F02D85C208>\n",
      "{34, 68, 11, 12, 45, 23, 56, 89}\n",
      "None\n"
     ]
    }
   ],
   "source": [
    "a={68,11,12,34,56,68,89,23,34,12,45}\n",
    "b={12,23,34,45,56,67,78,78}\n",
    "print(a)\n",
    "print(b)\n",
    "print(a-b)\n",
    "print(a.intersection(b))\n",
    "print(a.union(b))\n",
    "print(a.issuperset(b))\n",
    "print(a.symmetric_difference)\n",
    "print(a)\n",
    "print(a.symmetric_difference_update(b))"
   ]
  },
  {
   "cell_type": "code",
   "execution_count": 46,
   "metadata": {},
   "outputs": [
    {
     "name": "stdout",
     "output_type": "stream",
     "text": [
      "{34, 68, 11, 12, 45, 23, 56, 89}\n",
      "{34, 67, 12, 45, 78, 23, 56}\n",
      "{34, 12, 45, 23, 56}\n",
      "{67, 78}\n"
     ]
    }
   ],
   "source": [
    "a={68,11,12,34,56,68,89,23,34,12,45}\n",
    "b={12,23,34,45,56,67,78,78}\n",
    "print(a)\n",
    "print(b)\n",
    "a.intersection_update(b)\n",
    "print(a)\n",
    "a.symmetric_difference_update(b)\n",
    "print(a)"
   ]
  },
  {
   "cell_type": "code",
   "execution_count": 2,
   "metadata": {},
   "outputs": [
    {
     "name": "stdout",
     "output_type": "stream",
     "text": [
      "type messgage : hello\n",
      "hii\n"
     ]
    }
   ],
   "source": [
    "a={\"hello\":\"hii\", \"how r you?\": \"i am Fine\", \"Bye\": \"bye\",\"1\": \"one\" ,\"10\": \"Ten\"}\n",
    "\n",
    "\n",
    "msg=input(\"type message : \")\n",
    "print(a[msg])"
   ]
  },
  {
   "cell_type": "code",
   "execution_count": 2,
   "metadata": {},
   "outputs": [
    {
     "name": "stdout",
     "output_type": "stream",
     "text": [
      "type message :\n",
      " Hello\n",
      "hii\n",
      "type message :\n",
      " Bye\n"
     ]
    },
    {
     "ename": "KeyError",
     "evalue": "'bye'",
     "output_type": "error",
     "traceback": [
      "\u001b[1;31m---------------------------------------------------------------------------\u001b[0m",
      "\u001b[1;31mKeyError\u001b[0m                                  Traceback (most recent call last)",
      "\u001b[1;32m<ipython-input-2-77d3b6b7efb9>\u001b[0m in \u001b[0;36m<module>\u001b[1;34m\u001b[0m\n\u001b[0;32m      4\u001b[0m     \u001b[0mmsg\u001b[0m\u001b[1;33m=\u001b[0m\u001b[0minput\u001b[0m\u001b[1;33m(\u001b[0m\u001b[1;34m\"type message :\\n \"\u001b[0m\u001b[1;33m)\u001b[0m\u001b[1;33m\u001b[0m\u001b[1;33m\u001b[0m\u001b[0m\n\u001b[0;32m      5\u001b[0m     \u001b[1;32mif\u001b[0m \u001b[0mlen\u001b[0m\u001b[1;33m(\u001b[0m\u001b[0mmsg\u001b[0m\u001b[1;33m)\u001b[0m\u001b[1;33m>=\u001b[0m\u001b[1;36m0\u001b[0m\u001b[1;33m:\u001b[0m\u001b[1;33m\u001b[0m\u001b[1;33m\u001b[0m\u001b[0m\n\u001b[1;32m----> 6\u001b[1;33m         \u001b[0mprint\u001b[0m\u001b[1;33m(\u001b[0m\u001b[0ma\u001b[0m\u001b[1;33m[\u001b[0m\u001b[0mmsg\u001b[0m\u001b[1;33m.\u001b[0m\u001b[0mlower\u001b[0m\u001b[1;33m(\u001b[0m\u001b[1;33m)\u001b[0m\u001b[1;33m]\u001b[0m\u001b[1;33m)\u001b[0m\u001b[1;33m\u001b[0m\u001b[1;33m\u001b[0m\u001b[0m\n\u001b[0m\u001b[0;32m      7\u001b[0m     \u001b[1;32melse\u001b[0m\u001b[1;33m:\u001b[0m\u001b[1;33m\u001b[0m\u001b[1;33m\u001b[0m\u001b[0m\n\u001b[0;32m      8\u001b[0m         \u001b[1;32mbreak\u001b[0m\u001b[1;33m\u001b[0m\u001b[1;33m\u001b[0m\u001b[0m\n",
      "\u001b[1;31mKeyError\u001b[0m: 'bye'"
     ]
    }
   ],
   "source": [
    "a={\"hello\":\"hii\", \"how r you?\": \"i am Fine\", \"Bye\": \"bye\",\"1\": \"one\" ,\"10\": \"Ten\"}\n",
    "\n",
    "while True:\n",
    "    msg=input(\"type message :\\n \")\n",
    "    if len(msg)>=0:\n",
    "        print(a[msg.lower()])\n",
    "    else:\n",
    "        break"
   ]
  },
  {
   "cell_type": "code",
   "execution_count": 5,
   "metadata": {},
   "outputs": [
    {
     "name": "stdout",
     "output_type": "stream",
     "text": [
      "New key : \n",
      "hello\n",
      "enter valueguvyu\n",
      "New key : \n",
      "\n",
      "{'hello': 'guvyu', 'how r you?': 'i am Fine', 'Bye': 'bye', '1': 'one', '10': 'Ten'}\n"
     ]
    }
   ],
   "source": [
    "a={\"hello\":\"hii\", \"how r you?\": \"i am Fine\", \"Bye\": \"bye\",\"1\": \"one\" ,\"10\": \"Ten\"}\n",
    "\n",
    "\n",
    "# a[\"hlo\"] = \"hye\"\n",
    "while True:\n",
    "    msg = input(\"New key : \\n\")\n",
    "    if len(msg)>0:\n",
    "        a[msg.lower()]= input (\"enter value\")\n",
    "    else:\n",
    "        break\n",
    "print(a)"
   ]
  },
  {
   "cell_type": "code",
   "execution_count": 6,
   "metadata": {},
   "outputs": [
    {
     "name": "stdout",
     "output_type": "stream",
     "text": [
      "enter key you want to update . \n",
      "hello\n",
      "enter new valuekhjhjh\n",
      "{'hello': 'khjhjh', 'how r you?': 'i am Fine', 'Bye': 'bye', '1': 'one', '10': 'Ten'}\n",
      "enter key you want to update . \n",
      "\n"
     ]
    }
   ],
   "source": [
    "a={\"hello\":\"hii\", \"how r you?\": \"i am Fine\", \"Bye\": \"bye\",\"1\": \"one\" ,\"10\": \"Ten\"}\n",
    "while True:\n",
    "    msg = input(\"enter key you want to update . \\n\")\n",
    "    if len(msg) > 0:\n",
    "        a[msg.lower ()] =input(\"enter new value\")\n",
    "\n",
    "    else:\n",
    "        break\n",
    "\n",
    "# a[\"hlo\"] = \"hye\"\n",
    "#while True:\n",
    "   #msg = input(\"New key : \\n\")\n",
    "    #if len(msg)>0:\n",
    "     #   a[msg.lower()]= input (\"enter value\")\n",
    "    #else:\n",
    "     #   break\n",
    "    print(a)\n",
    "    "
   ]
  },
  {
   "cell_type": "code",
   "execution_count": 8,
   "metadata": {},
   "outputs": [
    {
     "name": "stdout",
     "output_type": "stream",
     "text": [
      "{'hello': 'hii', 'how r you?': 'i am Fine', 'Bye': 'bye', '1': 'one', '10': 'Ten'}\n",
      "{'how r you?': 'i am Fine', 'Bye': 'bye', '1': 'one', '10': 'Ten'}\n"
     ]
    }
   ],
   "source": [
    "a={\"hello\":\"hii\", \"how r you?\": \"i am Fine\", \"Bye\": \"bye\",\"1\": \"one\" ,\"10\": \"Ten\"}\n",
    "print(a)\n",
    "a.pop(\"hello\")\n",
    "print(a)"
   ]
  },
  {
   "cell_type": "code",
   "execution_count": 13,
   "metadata": {},
   "outputs": [
    {
     "name": "stdout",
     "output_type": "stream",
     "text": [
      "dict_keys(['hello', 'how r you?', 'Bye', '1', '10'])\n",
      "dict_values(['hii', 'i am Fine', 'bye', 'one', 'Ten'])\n",
      "dict_items([('hello', 'hii'), ('how r you?', 'i am Fine'), ('Bye', 'bye'), ('1', 'one'), ('10', 'Ten')])\n",
      "hello hii\n",
      "how r you? i am Fine\n",
      "Bye bye\n",
      "1 one\n",
      "10 Ten\n",
      "{'hello': 'hii', 'how r you?': 'i am Fine', 'Bye': 'bye', '1': 'one', '10': 'Ten'}\n"
     ]
    }
   ],
   "source": [
    "a={\"hello\":\"hii\", \"how r you?\": \"i am Fine\", \"Bye\": \"bye\",\"1\": \"one\" ,\"10\": \"Ten\"}\n",
    "print(a.keys())\n",
    "print(a.values())\n",
    "print(a.items())\n",
    "for k,v in a.items():\n",
    "    print(k,v)\n",
    "print(a)"
   ]
  },
  {
   "cell_type": "code",
   "execution_count": 2,
   "metadata": {},
   "outputs": [
    {
     "name": "stdout",
     "output_type": "stream",
     "text": [
      "hello everyone, welcome to python class\n",
      "<class 'str'>\n",
      "<class 'str'>\n"
     ]
    }
   ],
   "source": [
    "string = \"hello everyone, welcome to python class\"\n",
    "string2 =\"1234\"\n",
    "print(string)\n",
    "print(type(string))\n",
    "print(type(string2))\n"
   ]
  },
  {
   "cell_type": "code",
   "execution_count": 8,
   "metadata": {},
   "outputs": [
    {
     "name": "stdout",
     "output_type": "stream",
     "text": [
      "Hello everyone, welcome to python class\n",
      "hello everyone, welcome to python class\n"
     ]
    }
   ],
   "source": [
    "string = \"hello everyone, welcome to python class\"\n",
    "string2 =\"1234\"\n",
    "print( string.capitalize())\n",
    "print(string)\n",
    "\n"
   ]
  },
  {
   "cell_type": "code",
   "execution_count": 15,
   "metadata": {},
   "outputs": [
    {
     "name": "stdout",
     "output_type": "stream",
     "text": [
      "hello everyone, welcome to python class\n"
     ]
    }
   ],
   "source": [
    "string = \"Hello Everyone, Welcome To Python Class\"\n",
    "string2 =\"1234\"\n",
    "print(string.casefold())\n",
    "\n"
   ]
  },
  {
   "cell_type": "code",
   "execution_count": 12,
   "metadata": {},
   "outputs": [
    {
     "name": "stdout",
     "output_type": "stream",
     "text": [
      "Hello everyone, welcome to python class\n",
      "str(object='') -> str\n",
      "str(bytes_or_buffer[, encoding[, errors]]) -> str\n",
      "\n",
      "Create a new string object from the given object. If encoding or\n",
      "errors is specified, then the object must expose a data buffer\n",
      "that will be decoded using the given encoding and error handler.\n",
      "Otherwise, returns the result of object.__str__() (if defined)\n",
      "or repr(object).\n",
      "encoding defaults to sys.getdefaultencoding().\n",
      "errors defaults to 'strict'.\n"
     ]
    }
   ],
   "source": [
    "string = \"Hello Everyone, Welcome To Python Class\"\n",
    "string2 =\"1234\"\n",
    "print( string.capitalize())\n",
    "print(string.casefold().__doc__)\n",
    "\n"
   ]
  },
  {
   "cell_type": "code",
   "execution_count": 25,
   "metadata": {},
   "outputs": [
    {
     "name": "stdout",
     "output_type": "stream",
     "text": [
      "1\n"
     ]
    }
   ],
   "source": [
    "string = \"Hello Everyone, Welcome To python Class\"\n",
    "string2 =\"1234\"\n",
    "print(string.count('python'))\n"
   ]
  },
  {
   "cell_type": "code",
   "execution_count": 32,
   "metadata": {},
   "outputs": [
    {
     "name": "stdout",
     "output_type": "stream",
     "text": [
      "True\n"
     ]
    }
   ],
   "source": [
    "string =\"hello everyone, welcome to python class\"\n",
    "print(string.endswith(\"class\"))\n",
    "\n"
   ]
  },
  {
   "cell_type": "code",
   "execution_count": 43,
   "metadata": {},
   "outputs": [
    {
     "name": "stdout",
     "output_type": "stream",
     "text": [
      "hello     everyone,           welcome   to        python    class\n"
     ]
    }
   ],
   "source": [
    "string = \"hello \\teveryone, \\twelcome \\tto \\tpython \\tclass\"\n",
    "print(string.expandtabs(10))"
   ]
  },
  {
   "cell_type": "code",
   "execution_count": 44,
   "metadata": {},
   "outputs": [
    {
     "name": "stdout",
     "output_type": "stream",
     "text": [
      "27\n"
     ]
    }
   ],
   "source": [
    "string =\"hello everyone, welcome to python class\"\n",
    "print(string.find(\"python\"))"
   ]
  },
  {
   "cell_type": "code",
   "execution_count": 64,
   "metadata": {},
   "outputs": [
    {
     "name": "stdout",
     "output_type": "stream",
     "text": [
      "27\n"
     ]
    }
   ],
   "source": [
    "string = \"hello everyone, welcome to python class\"\n",
    "print(string.index(\"python\"))"
   ]
  },
  {
   "cell_type": "code",
   "execution_count": 65,
   "metadata": {},
   "outputs": [
    {
     "name": "stdout",
     "output_type": "stream",
     "text": [
      "hello python, welcome to  vikram class\n"
     ]
    }
   ],
   "source": [
    "string = \"hello {1}, welcome to {0} class\"\n",
    "print(string.format(\" vikram\",\"python\"))"
   ]
  },
  {
   "cell_type": "code",
   "execution_count": 54,
   "metadata": {},
   "outputs": [
    {
     "name": "stdout",
     "output_type": "stream",
     "text": [
      "hello vikram,welcome To python class\n",
      "hello 2, welcome To 3 class\n"
     ]
    }
   ],
   "source": [
    "string= \"hello {name},welcome To {course} class\"\n",
    "a={\"name\": \"vikram\",\"course\": \"python\"}\n",
    "print(string.format_map(a))\n",
    "print(\"hello {}, welcome To {} class\". format(2,3))"
   ]
  },
  {
   "cell_type": "code",
   "execution_count": 58,
   "metadata": {},
   "outputs": [
    {
     "name": "stdout",
     "output_type": "stream",
     "text": [
      "False\n"
     ]
    }
   ],
   "source": [
    "string = \"hello everyone, welcome to python class\"\n",
    "print(string. isalnum())\n"
   ]
  },
  {
   "cell_type": "code",
   "execution_count": 66,
   "metadata": {},
   "outputs": [
    {
     "name": "stdout",
     "output_type": "stream",
     "text": [
      "True\n",
      "True\n",
      "True\n",
      "True\n",
      "True\n",
      "True\n",
      "True\n",
      "True\n"
     ]
    }
   ],
   "source": [
    "string = \"hello everyone, welcome to python class\"\n",
    "print (\"hello_1234\".isidentifier())\n",
    "print (\"1234\".isdecimal())\n",
    "print (\"1\".isdigit())\n",
    "print (\"hello\".islower())\n",
    "print (\" \".isspace())\n",
    "print (\"Hello\".istitle())\n",
    "print (\"HELLO\".isupper())\n",
    "print (\"hello\".isprintable())\n"
   ]
  },
  {
   "cell_type": "code",
   "execution_count": 91,
   "metadata": {},
   "outputs": [
    {
     "name": "stdout",
     "output_type": "stream",
     "text": [
      "aman hello everyone, welcome to python class; rohit hello everyone, welcome to python class; rahul hello everyone, welcome to python class; annu\n"
     ]
    }
   ],
   "source": [
    "string =  \" hello everyone, welcome to python class; \"\n",
    "a= \"aman\", \"rohit\", \"rahul\",\"annu\"\n",
    "print(string.join(a))"
   ]
  },
  {
   "cell_type": "code",
   "execution_count": 98,
   "metadata": {},
   "outputs": [
    {
     "name": "stdout",
     "output_type": "stream",
     "text": [
      " vikram and vikash \n"
     ]
    }
   ],
   "source": [
    "a=( \" vikram \", \" vikash \" )\n",
    "print(\"and\".join(a))"
   ]
  },
  {
   "cell_type": "code",
   "execution_count": 83,
   "metadata": {},
   "outputs": [
    {
     "name": "stdout",
     "output_type": "stream",
     "text": [
      "-------hello--------\n",
      "*******hello********\n",
      "_______hello________\n",
      "hello***************\n",
      "***************hello\n"
     ]
    }
   ],
   "source": [
    "string=\"\"\"hello\"\"\"\n",
    "print(string.center(20,\"-\"))\n",
    "print(string.center(20,\"*\"))\n",
    "print(string.center(20,\"_\"))\n",
    "print(string.ljust(20,\"*\"))\n",
    "print(string.rjust(20,\"*\"))"
   ]
  },
  {
   "cell_type": "code",
   "execution_count": 93,
   "metadata": {},
   "outputs": [
    {
     "name": "stdout",
     "output_type": "stream",
     "text": [
      "  hello   \n",
      "hello\n",
      "  hello\n",
      "hello   \n"
     ]
    }
   ],
   "source": [
    "string =\"\"\"  hello   \"\"\"\n",
    "print(string)\n",
    "print(string.strip())\n",
    "print(string.rstrip())\n",
    "print(string.lstrip())"
   ]
  },
  {
   "cell_type": "code",
   "execution_count": 94,
   "metadata": {},
   "outputs": [
    {
     "name": "stdout",
     "output_type": "stream",
     "text": [
      "['Hello,', 'python', 'is', 'an', 'interpreted,', 'high-level,', 'general-purpose', 'programming', 'language']\n",
      "['Hello, ', ' is an interpreted, high-level, general-purpose programming language']\n",
      "('Hello, ', 'python', ' is an interpreted, high-level, general-purpose programming language')\n"
     ]
    }
   ],
   "source": [
    "string = \"Hello, python is an interpreted, high-level, general-purpose programming language\"\n",
    "print(string.split())\n",
    "print(string.split(\"python\"))\n",
    "print(string.partition(\"python\"))"
   ]
  }
 ],
 "metadata": {
  "kernelspec": {
   "display_name": "Python 3",
   "language": "python",
   "name": "python3"
  },
  "language_info": {
   "codemirror_mode": {
    "name": "ipython",
    "version": 3
   },
   "file_extension": ".py",
   "mimetype": "text/x-python",
   "name": "python",
   "nbconvert_exporter": "python",
   "pygments_lexer": "ipython3",
   "version": "3.7.1"
  }
 },
 "nbformat": 4,
 "nbformat_minor": 2
}
