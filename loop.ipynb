{
 "cells": [
  {
   "cell_type": "code",
   "execution_count": 2,
   "metadata": {},
   "outputs": [
    {
     "ename": "SyntaxError",
     "evalue": "invalid syntax (<ipython-input-2-8b7b04da6002>, line 2)",
     "output_type": "error",
     "traceback": [
      "\u001b[1;36m  File \u001b[1;32m\"<ipython-input-2-8b7b04da6002>\"\u001b[1;36m, line \u001b[1;32m2\u001b[0m\n\u001b[1;33m    if (year%4==0)\u001b[0m\n\u001b[1;37m                  ^\u001b[0m\n\u001b[1;31mSyntaxError\u001b[0m\u001b[1;31m:\u001b[0m invalid syntax\n"
     ]
    }
   ],
   "source": [
    "year=int(input(\"enter leap year\"))\n",
    "if (year%4==0)\n",
    "\n"
   ]
  },
  {
   "cell_type": "code",
   "execution_count": 35,
   "metadata": {},
   "outputs": [
    {
     "name": "stdout",
     "output_type": "stream",
     "text": [
      "0\n",
      "1\n",
      "2\n",
      "3\n",
      "4\n",
      "5\n",
      "6\n",
      "7\n",
      "8\n",
      "9\n"
     ]
    }
   ],
   "source": [
    "for i in range(10):\n",
    "    print(i)"
   ]
  },
  {
   "cell_type": "code",
   "execution_count": 40,
   "metadata": {},
   "outputs": [
    {
     "name": "stdout",
     "output_type": "stream",
     "text": [
      "\n",
      " for i in the range (4,60,3)\n",
      "4,7,10,13,16,19,22,25,28,31,34,37,40,43,46,49,52,55,58,"
     ]
    }
   ],
   "source": [
    "print(\"\\n for i in the range (4,60,3)\")\n",
    "for i in range(4,60,3):\n",
    "     print (i,end=\",\")"
   ]
  },
  {
   "cell_type": "code",
   "execution_count": 41,
   "metadata": {},
   "outputs": [
    {
     "name": "stdout",
     "output_type": "stream",
     "text": [
      "\n",
      " for i in the range(2,20)\n",
      "\n",
      " for i in the range(2,20)\n",
      "\n",
      " for i in the range(2,20)\n",
      "\n",
      " for i in the range(2,20)\n",
      "\n",
      " for i in the range(2,20)\n",
      "\n",
      " for i in the range(2,20)\n",
      "\n",
      " for i in the range(2,20)\n",
      "\n",
      " for i in the range(2,20)\n",
      "\n",
      " for i in the range(2,20)\n",
      "\n",
      " for i in the range(2,20)\n",
      "\n",
      " for i in the range(2,20)\n",
      "\n",
      " for i in the range(2,20)\n",
      "\n",
      " for i in the range(2,20)\n",
      "\n",
      " for i in the range(2,20)\n",
      "\n",
      " for i in the range(2,20)\n",
      "\n",
      " for i in the range(2,20)\n",
      "\n",
      " for i in the range(2,20)\n",
      "\n",
      " for i in the range(2,20)\n"
     ]
    }
   ],
   "source": [
    "for i in range(2,20):\n",
    "    print(\"\\n for i in the range(2,20)\")"
   ]
  },
  {
   "cell_type": "code",
   "execution_count": 42,
   "metadata": {},
   "outputs": [
    {
     "name": "stdout",
     "output_type": "stream",
     "text": [
      "12\n",
      "20\n",
      "28\n",
      "36\n",
      "44\n",
      "52\n",
      "60\n",
      "68\n",
      "76\n",
      "84\n",
      "92\n"
     ]
    }
   ],
   "source": [
    "i = 12\n",
    "while i < 100:\n",
    "    print(i)\n",
    "    i = i+8"
   ]
  },
  {
   "cell_type": "code",
   "execution_count": null,
   "metadata": {},
   "outputs": [],
   "source": []
  }
 ],
 "metadata": {
  "kernelspec": {
   "display_name": "Python 3",
   "language": "python",
   "name": "python3"
  },
  "language_info": {
   "codemirror_mode": {
    "name": "ipython",
    "version": 3
   },
   "file_extension": ".py",
   "mimetype": "text/x-python",
   "name": "python",
   "nbconvert_exporter": "python",
   "pygments_lexer": "ipython3",
   "version": "3.7.1"
  }
 },
 "nbformat": 4,
 "nbformat_minor": 2
}
