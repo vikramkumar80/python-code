{
 "cells": [
  {
   "cell_type": "code",
   "execution_count": 1,
   "metadata": {
    "scrolled": true
   },
   "outputs": [
    {
     "name": "stdout",
     "output_type": "stream",
     "text": [
      "f1 without params\n",
      "f2 with two params\n",
      "f3 with second params default\n",
      "f4 with first default param\n"
     ]
    }
   ],
   "source": [
    "def f1():\n",
    "    print(\"f1 without params\")\n",
    "\n",
    "f1()\n",
    "\n",
    "def f2(n1,n2):\n",
    "    print(\"f2 with two params\")\n",
    "    \n",
    "f2(10,33)\n",
    "def f3 (n1, n2=13):\n",
    "    print(\"f3 with second params default\")\n",
    "    \n",
    "f3(12)\n",
    "def f4(n2=8,n1=12,):\n",
    "    print(\"f4 with first default param\")\n",
    "f4(n1=56)"
   ]
  },
  {
   "cell_type": "code",
   "execution_count": 2,
   "metadata": {},
   "outputs": [
    {
     "name": "stdout",
     "output_type": "stream",
     "text": [
      "enter any number10\n",
      "3628800\n"
     ]
    }
   ],
   "source": [
    "n=int(input(\"enter any number\"))\n",
    "\n",
    "fact = 1\n",
    "\n",
    "while n > 1:\n",
    "    fact =fact * n\n",
    "    n = n - 1\n",
    "print(fact)"
   ]
  },
  {
   "cell_type": "code",
   "execution_count": 3,
   "metadata": {},
   "outputs": [
    {
     "name": "stdout",
     "output_type": "stream",
     "text": [
      "720\n"
     ]
    }
   ],
   "source": [
    "def factorial(num,fact=1):\n",
    "    fact=fact * num\n",
    "    if num > 1:\n",
    "        factorial(num - 1, fact)\n",
    "    else:\n",
    "        print(fact)\n",
    "\n",
    "factorial(6)"
   ]
  },
  {
   "cell_type": "code",
   "execution_count": 4,
   "metadata": {},
   "outputs": [
    {
     "name": "stdout",
     "output_type": "stream",
     "text": [
      "hello\n",
      "12\n"
     ]
    }
   ],
   "source": [
    "def fun():\n",
    "    print(\"hello\")\n",
    "    return 12\n",
    "\n",
    "print(fun())"
   ]
  },
  {
   "cell_type": "code",
   "execution_count": 5,
   "metadata": {},
   "outputs": [
    {
     "name": "stdout",
     "output_type": "stream",
     "text": [
      "46\n",
      "35\n"
     ]
    }
   ],
   "source": [
    "def add(a,b):\n",
    "    return a+b\n",
    "\n",
    "print(add(12,34))\n",
    "\n",
    "l = lambda a, b: a + b\n",
    "print(l(12,23))"
   ]
  },
  {
   "cell_type": "code",
   "execution_count": 6,
   "metadata": {},
   "outputs": [
    {
     "name": "stdout",
     "output_type": "stream",
     "text": [
      "<class 'list'>\n",
      "<function <lambda> at 0x000002739707EBF8>\n"
     ]
    }
   ],
   "source": [
    "li = [7,13,19,26,32,39,42,52,65,78,81]\n",
    "\n",
    "print(list)\n",
    "print(l)"
   ]
  },
  {
   "cell_type": "code",
   "execution_count": null,
   "metadata": {},
   "outputs": [],
   "source": []
  }
 ],
 "metadata": {
  "kernelspec": {
   "display_name": "Python 3",
   "language": "python",
   "name": "python3"
  },
  "language_info": {
   "codemirror_mode": {
    "name": "ipython",
    "version": 3
   },
   "file_extension": ".py",
   "mimetype": "text/x-python",
   "name": "python",
   "nbconvert_exporter": "python",
   "pygments_lexer": "ipython3",
   "version": "3.7.1"
  }
 },
 "nbformat": 4,
 "nbformat_minor": 2
}
